{
  "nbformat": 4,
  "nbformat_minor": 0,
  "metadata": {
    "colab": {
      "provenance": [],
      "authorship_tag": "ABX9TyMwqlKhQC/R11X31pD+M3Tl",
      "include_colab_link": true
    },
    "kernelspec": {
      "name": "python3",
      "display_name": "Python 3"
    },
    "language_info": {
      "name": "python"
    }
  },
  "cells": [
    {
      "cell_type": "markdown",
      "metadata": {
        "id": "view-in-github",
        "colab_type": "text"
      },
      "source": [
        "<a href=\"https://colab.research.google.com/github/daFumi/Testing_Repository/blob/main/lr1_md.ipynb\" target=\"_parent\"><img src=\"https://colab.research.google.com/assets/colab-badge.svg\" alt=\"Open In Colab\"/></a>"
      ]
    },
    {
      "cell_type": "markdown",
      "source": [
        "# **Лабораторная работа №1. Судаков Дмитрий**\n",
        "###**Маркированный список**\n",
        "Топ 5 языков программирования\n",
        "* JavaScript\n",
        "* C#\n",
        "* Java\n",
        "* Python\n",
        "* PHP\n",
        "\n",
        "###**Рисунок**\n",
        "![cat](https://assets.faceit-cdn.net/avatars/37760659-989b-43ac-ae00-e17bf3ca88de_1623089176257.jpg)\n",
        "\n",
        "###**Таблица**\n",
        "\n",
        "Cтудент      | Количество баллов\n",
        "------------------|------------------\n",
        "Иванов Петр    | 64\n",
        "Сергеев Иван    | 78\n",
        "\n",
        "###**Ссылка**\n",
        "[Основы GitHub MarkDown](https://www.youtube.com/watch?v=xvFZjo5PgG0)"
      ],
      "metadata": {
        "id": "_dJHx05d4fGl"
      }
    }
  ]
}